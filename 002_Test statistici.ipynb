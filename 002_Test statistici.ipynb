{
 "cells": [
  {
   "cell_type": "markdown",
   "metadata": {},
   "source": [
    "# Stazionarietà della serie\n",
    "## Introduzione ai Test Statistici"
   ]
  },
  {
   "cell_type": "markdown",
   "metadata": {},
   "source": [
    "Lo studio di serie storiche con modelli statistici (ARMA, ARIMA, SARIMA, Holt-Winters,...) presuppone che la distribuzione abbia alcune caratteristiche come:\n",
    "* stazionarietà\n",
    "* correlazione dei dati (i dati sono indipendentemente distribuiti?)\n",
    "* distibuzione normale dei dati\n",
    "<br>\n",
    "\n",
    "Per verificare se sussistono queste caratteristiche bisogna effettuare alcuni test statistici. In python la principale libreria che racchiude questi strumenti è [statsmodels](https://www.statsmodels.org/stable/index.html), in particolare il modulo *tsa*."
   ]
  },
  {
   "cell_type": "markdown",
   "metadata": {},
   "source": [
    "## Caricamento di Airpassengers"
   ]
  },
  {
   "cell_type": "code",
   "execution_count": null,
   "metadata": {},
   "outputs": [],
   "source": [
    "import pandas as pd\n",
    "import numpy as np\n",
    "import matplotlib.pyplot as plt\n",
    "%matplotlib inline"
   ]
  },
  {
   "cell_type": "markdown",
   "metadata": {},
   "source": [
    "Per prima cosa carichiamo la serie e vediamo:\n",
    "* i primi 5 valori\n",
    "* il plot dell'originale"
   ]
  },
  {
   "cell_type": "code",
   "execution_count": null,
   "metadata": {},
   "outputs": [],
   "source": [
    "airpassengers = pd.read_csv(\"airpassenger.csv\")\n",
    "airpassengers.columns = [\"Time\",\"Passengers\"]\n",
    "airpassengers.head()"
   ]
  },
  {
   "cell_type": "code",
   "execution_count": null,
   "metadata": {
    "scrolled": true
   },
   "outputs": [],
   "source": [
    "plt.figure(figsize=(16,8))\n",
    "plt.plot(range(airpassengers.shape[0]), airpassengers[\"Passengers\"].values, color='tab:red')\n",
    "plt.gca().set(title=\"Airpassengers\", xlabel=\"Time\", ylabel=\"Passengers\")\n",
    "plt.show()"
   ]
  },
  {
   "cell_type": "markdown",
   "metadata": {},
   "source": [
    "## Componenti della serie"
   ]
  },
  {
   "cell_type": "markdown",
   "metadata": {},
   "source": [
    "Una serie storica ha solitamente quattro componenti:\n",
    "* *trend*\n",
    "* *ciclo*\n",
    "* *stagionalità*\n",
    "* *componente erratica*\n",
    "<br>\n",
    "\n",
    "In tsa esiste una funzione che decompone la serie e ci fa vedere 3 delle quattro componenti sopra elencate.\n",
    "<br>\n",
    "\n",
    "**N.B. La differenza tra ciclo e stagionalità. La stagionalità si presenta sui dodici mesi, il ciclo può essere mensile, seetimanale, ... non confondiamo.**"
   ]
  },
  {
   "cell_type": "code",
   "execution_count": null,
   "metadata": {},
   "outputs": [],
   "source": [
    "from statsmodels.tsa.seasonal import seasonal_decompose"
   ]
  },
  {
   "cell_type": "code",
   "execution_count": null,
   "metadata": {},
   "outputs": [],
   "source": [
    "decompose = seasonal_decompose(airpassengers[\"Passengers\"], model = \"multiplicative\", period = 12)"
   ]
  },
  {
   "cell_type": "markdown",
   "metadata": {},
   "source": [
    "Sapevamo già che la serie è mensile, quindi frequenza 12, il model indica il tipo di stagionalità, se vediamo il grafico i picchi crescono al passare dei periodi, quindi l'interazione tra le componenti è moltiplicativa.\n",
    "<br>\n",
    "Nei grafici di seguito vediamo:\n",
    "1. La serie originale\n",
    "2. Il trend\n",
    "3. La stagionalità\n",
    "4. La componente erratica"
   ]
  },
  {
   "cell_type": "code",
   "execution_count": null,
   "metadata": {},
   "outputs": [],
   "source": [
    "plt.figure(figsize=(16,8))\n",
    "decompose.plot()\n",
    "plt.show()"
   ]
  },
  {
   "cell_type": "markdown",
   "metadata": {},
   "source": [
    "## Test sulla stazionarietà\n",
    "Quando si valuta la stazionarietà di una serie per prima cosa si fa un'analisi \"visuale\" delle autocorrelazioni totali e parziali.\n",
    "<br>\n",
    "Se la serie è stazionaria avremo un andamento decrescente delle stesse."
   ]
  },
  {
   "cell_type": "code",
   "execution_count": null,
   "metadata": {},
   "outputs": [],
   "source": [
    "from statsmodels.graphics.tsaplots import plot_acf, plot_pacf\n",
    "from statsmodels.tsa.stattools import acf, pacf"
   ]
  },
  {
   "cell_type": "markdown",
   "metadata": {},
   "source": [
    "### Autocorrelazioni globali"
   ]
  },
  {
   "cell_type": "code",
   "execution_count": null,
   "metadata": {},
   "outputs": [],
   "source": [
    "acf = acf(airpassengers[\"Passengers\"], nlags = 40,qstat= True, fft=False)"
   ]
  },
  {
   "cell_type": "markdown",
   "metadata": {},
   "source": [
    "Ritorna una tupla di tre array:\n",
    "* le autocorrelazioni\n",
    "* la q stat di Box - Jenkins per ogni autocorrelazione\n",
    "* il p-value associato ad ogni correlazione\n",
    "<br>\n",
    "vediamo direttamente il p-value, gli elementi sono quasi pari a zero quindi sotto alpha = 0.05.\n",
    "<br>\n",
    "\n",
    "Possiamo concludere che con buona probabilità la serie **non è stazionaria**."
   ]
  },
  {
   "cell_type": "code",
   "execution_count": null,
   "metadata": {},
   "outputs": [],
   "source": [
    "acf[2]"
   ]
  },
  {
   "cell_type": "code",
   "execution_count": null,
   "metadata": {},
   "outputs": [],
   "source": [
    "plt.figure(figsize=(16,8))\n",
    "plot_acf(airpassengers[\"Passengers\"], lags = 40)\n",
    "plt.show()"
   ]
  },
  {
   "cell_type": "markdown",
   "metadata": {},
   "source": [
    "### Autocorrelazioni parziali"
   ]
  },
  {
   "cell_type": "code",
   "execution_count": null,
   "metadata": {},
   "outputs": [],
   "source": [
    "prt_acf = pacf(airpassengers[\"Passengers\"])"
   ]
  },
  {
   "cell_type": "code",
   "execution_count": null,
   "metadata": {},
   "outputs": [],
   "source": [
    "plt.figure(figsize=(16,8))\n",
    "plot_pacf(airpassengers[\"Passengers\"])\n",
    "plt.show()"
   ]
  },
  {
   "cell_type": "markdown",
   "metadata": {},
   "source": [
    "### ADFuller test\n",
    "Questo è un test che presenta sotto l'ipotesi nulla:\n",
    "* **H0**: serie NON stazionaria"
   ]
  },
  {
   "cell_type": "code",
   "execution_count": null,
   "metadata": {},
   "outputs": [],
   "source": [
    "# funzione che confronta il p-value con il livello di significatività del test\n",
    "# e scrive se accettare o rifiutare l'ipotetsi nulla.\n",
    "def hypothesis(p_value, alpha):\n",
    "    if p_value<= alpha:\n",
    "        print(\"Non accettiamo H0\")\n",
    "    else:\n",
    "        print(\"Accettiamo H0\")"
   ]
  },
  {
   "cell_type": "code",
   "execution_count": null,
   "metadata": {},
   "outputs": [],
   "source": [
    "from statsmodels.tsa.stattools import adfuller\n",
    "adf = adfuller(airpassengers[\"Passengers\"], regression=\"ct\")"
   ]
  },
  {
   "cell_type": "code",
   "execution_count": null,
   "metadata": {},
   "outputs": [],
   "source": [
    "adf"
   ]
  },
  {
   "cell_type": "code",
   "execution_count": null,
   "metadata": {},
   "outputs": [],
   "source": [
    "hypothesis(p_value=round(adf[1],2), alpha=0.05)"
   ]
  },
  {
   "cell_type": "markdown",
   "metadata": {},
   "source": [
    "Il p-value pari a 0.54 ciò fa si che non possiamo rigettare l'ipotesi nulla, nel nostro caso la NON stazionarietà della serie.\n",
    "\n",
    "*N.B. I valori vicino a 1 sono detti* ***critici***"
   ]
  },
  {
   "cell_type": "markdown",
   "metadata": {},
   "source": [
    "### KPSS test\n",
    "Questo è un test che presenta sotto l'ipotesi nulla:\n",
    "* **H0**: serie stazionaria"
   ]
  },
  {
   "cell_type": "code",
   "execution_count": null,
   "metadata": {},
   "outputs": [],
   "source": [
    "from statsmodels.tsa.stattools import kpss\n",
    "kpss_test = kpss(airpassengers[\"Passengers\"], regression = 'ct', nlags = 13, )"
   ]
  },
  {
   "cell_type": "markdown",
   "metadata": {},
   "source": [
    "**N.B.**\n",
    "+ **Perchè abbiamo scelto lags = 13?**\n",
    "<br>\n",
    "Il default dei lag è \n",
    "*(12 * (n / 100) ^ (1 / 4))*\n",
    "+ **Cos'è il parametro ct?**\n",
    "<br>\n",
    "Vogliamo verificare la stazionarietà rispetto al trend"
   ]
  },
  {
   "cell_type": "code",
   "execution_count": null,
   "metadata": {},
   "outputs": [],
   "source": [
    "kpss_test"
   ]
  },
  {
   "cell_type": "code",
   "execution_count": null,
   "metadata": {},
   "outputs": [],
   "source": [
    "hypothesis(round(kpss_test[1],2), alpha=0.05)"
   ]
  },
  {
   "cell_type": "markdown",
   "metadata": {},
   "source": [
    "Anche questo test ci suggerisce che la serie **NON è** stazionaria."
   ]
  },
  {
   "cell_type": "markdown",
   "metadata": {},
   "source": [
    "### Rendere la serie stazionaria\n",
    "Per rendere la serie stazionaria, visto il trend lineare, dovrebbe essere sufficiente calcolare la differenziazione prima che dovrebbe mitigare se non eliminare l'effetto trend.\n",
    "<br>\n",
    "Per avere conferma dell'efficacia della differenziazione ripeteremo i test sulla serie differenziata."
   ]
  },
  {
   "cell_type": "code",
   "execution_count": null,
   "metadata": {},
   "outputs": [],
   "source": [
    "stat = airpassengers[\"Passengers\"].diff()"
   ]
  },
  {
   "cell_type": "code",
   "execution_count": null,
   "metadata": {},
   "outputs": [],
   "source": [
    "plt.figure(figsize=(16,8))\n",
    "plt.plot(stat)\n",
    "plt.title(\"Airpassengers [stazionaria?]\")"
   ]
  },
  {
   "cell_type": "code",
   "execution_count": null,
   "metadata": {},
   "outputs": [],
   "source": [
    "adf_stat = adfuller(stat.values[1:])\n",
    "print(\"p-value: \", round(adf_stat[1], 2))\n",
    "hypothesis(p_value=round(adf_stat[1], 2), alpha=0.05)"
   ]
  },
  {
   "cell_type": "code",
   "execution_count": null,
   "metadata": {},
   "outputs": [],
   "source": [
    "kpss_stat = kpss(stat.values[1:], nlags=\"legacy\")\n",
    "print(\"p-value: \", round(kpss_stat[1], 2))\n",
    "hypothesis(p_value=round(kpss_stat[1], 2), alpha=0.05)"
   ]
  },
  {
   "cell_type": "markdown",
   "metadata": {},
   "source": [
    "Possiamo affermare che dopo la differenziazione prima la serie **è stazionaria**\n",
    "<br>\n",
    "**N.B. avrete notato che arrotondo il p-value a due cifre, questo per non essere portato a rigettare H0 per uno scarto minimo. Potrebbe essere un errore.**"
   ]
  },
  {
   "cell_type": "markdown",
   "metadata": {},
   "source": [
    "Per quanto riguarda la distribuzione dei dati vi lascio il nome dei test che potete provare a fare da soli e giungere alle  conclusioni su Airpassengers:\n",
    "* indipendenza: *Ljung-Box*\n",
    "* normalità: *Jarque-Bera*"
   ]
  },
  {
   "cell_type": "code",
   "execution_count": null,
   "metadata": {},
   "outputs": [],
   "source": []
  }
 ],
 "metadata": {
  "kernelspec": {
   "display_name": "Python 3",
   "language": "python",
   "name": "python3"
  },
  "language_info": {
   "codemirror_mode": {
    "name": "ipython",
    "version": 3
   },
   "file_extension": ".py",
   "mimetype": "text/x-python",
   "name": "python",
   "nbconvert_exporter": "python",
   "pygments_lexer": "ipython3",
   "version": "3.8.5"
  }
 },
 "nbformat": 4,
 "nbformat_minor": 2
}
